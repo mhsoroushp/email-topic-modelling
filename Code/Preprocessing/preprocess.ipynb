{
 "cells": [
  {
   "cell_type": "code",
   "execution_count": null,
   "metadata": {},
   "outputs": [],
   "source": [
    "import pandas as pd \n",
    "import spacy\n",
    "import os\n",
    "from tqdm import tqdm \n",
    "import json\n",
    "import pickle\n",
    "from sentence_transformers import SentenceTransformer\n",
    "import torch\n",
    "import string"
   ]
  },
  {
   "cell_type": "code",
   "execution_count": null,
   "metadata": {},
   "outputs": [],
   "source": [
    "modelPath = \"../../Data/Bert_Embedder\"\n",
    "\n",
    "model = SentenceTransformer('oliverguhr/german-sentiment-bert')\n",
    "model.save(modelPath)"
   ]
  },
  {
   "cell_type": "code",
   "execution_count": 3,
   "metadata": {},
   "outputs": [],
   "source": [
    "path_to_data = \"../../Data/Email_Data/sympany_emails_de.jsonl\"\n",
    "sympany_email_de = pd.read_json(path_or_buf=path_to_data, lines=True)"
   ]
  },
  {
   "cell_type": "code",
   "execution_count": 7,
   "metadata": {},
   "outputs": [],
   "source": [
    "def clean_data(text:string):\n",
    "    text = text.replace('\\n', ' ')\n",
    "    # remove these characters \"! , .\"\n",
    "    text = text.translate(str.maketrans('', '', string.punctuation))\n",
    "    return text"
   ]
  },
  {
   "cell_type": "code",
   "execution_count": 8,
   "metadata": {},
   "outputs": [],
   "source": [
    "def sentence2words(text:string):\n",
    "    cleaned_text = clean_data(text.lower())\n",
    "    lst_words = cleaned_text.split()\n",
    "    return lst_words"
   ]
  },
  {
   "cell_type": "code",
   "execution_count": 9,
   "metadata": {},
   "outputs": [],
   "source": [
    "def process(corpus):\n",
    "    word_corpus = []\n",
    "    for index, row in tqdm(corpus.iterrows()):\n",
    "        id, text = row\n",
    "        lst_words = sentence2words(text)\n",
    "        word_corpus.append(lst_words)\n",
    "    return word_corpus   "
   ]
  },
  {
   "cell_type": "code",
   "execution_count": null,
   "metadata": {},
   "outputs": [],
   "source": [
    "cleaned_data_path = \"../../Data/Preprocessed_Data\"\n",
    "file_path = os.path.join(cleaned_data_path, \"email2words.pickle\")\n",
    "\n",
    "email_to_lst_words = process(sympany_email_de)\n",
    "\n",
    "with open(file_path, \"wb\") as file: \n",
    "    pickle.dump(email_to_lst_words, file)\n"
   ]
  },
  {
   "cell_type": "code",
   "execution_count": null,
   "metadata": {},
   "outputs": [],
   "source": [
    "# create sentence (email) embeddings\n",
    "# load the pretrained sentenceTransformer for mulit language\n",
    "modelPath = \"../../Data/Bert_Embedder\"\n",
    "embeddings_model = SentenceTransformer(modelPath)\n",
    "\n",
    "path_to_data = \"../../Data/Email_Data/sympany_emails_de.jsonl\"\n",
    "sympany_email_de = pd.read_json(path_or_buf=path_to_data, lines=True)\n",
    "\n",
    "email_datset = sympany_email_de[\"text\"]\n",
    "\n",
    "sentence_embedding = []\n",
    "for each_email in tqdm(email_datset):\n",
    "    email_embedded = embeddings_model.encode(each_email.lower())\n",
    "    sentence_embedding.append(email_embedded)\n",
    "    \n",
    "sentence_embedding = torch.tensor(sentence_embedding)\n",
    "sentence_embedding.shape\n",
    "\n",
    "# save as pickle file\n",
    "cleaned_data_path = \"../../Data/Preprocessed_Data\"\n",
    "file_path = os.path.join(cleaned_data_path, \"email_embeddings.pickle\")\n",
    "with open(file_path, \"wb\") as file:\n",
    "    pickle.dump(sentence_embedding, file)\n",
    "\n",
    "\n"
   ]
  }
 ],
 "metadata": {
  "kernelspec": {
   "display_name": ".bertopicenv",
   "language": "python",
   "name": "python3"
  },
  "language_info": {
   "codemirror_mode": {
    "name": "ipython",
    "version": 3
   },
   "file_extension": ".py",
   "mimetype": "text/x-python",
   "name": "python",
   "nbconvert_exporter": "python",
   "pygments_lexer": "ipython3",
   "version": "3.9.7"
  }
 },
 "nbformat": 4,
 "nbformat_minor": 2
}
